{
 "cells": [
  {
   "cell_type": "code",
   "execution_count": 6,
   "metadata": {},
   "outputs": [],
   "source": [
    "from libs.model_administrator import store_model, extract_model, model_ready\n",
    "import pandas as pd\n",
    "from sklearn.model_selection import train_test_split\n",
    "from sklearn.linear_model import LinearRegression\n",
    "from sklearn.compose import ColumnTransformer\n",
    "from sklearn.preprocessing import OneHotEncoder, StandardScaler\n",
    "from sklearn.metrics import mean_squared_error, r2_score"
   ]
  },
  {
   "cell_type": "code",
   "execution_count": 8,
   "metadata": {},
   "outputs": [
    {
     "name": "stdout",
     "output_type": "stream",
     "text": [
      "Index(['Price', 'Year', 'Mileage', 'City', 'State', 'Vin', 'Make', 'Model'], dtype='object')\n"
     ]
    },
    {
     "data": {
      "text/html": [
       "<div>\n",
       "<style scoped>\n",
       "    .dataframe tbody tr th:only-of-type {\n",
       "        vertical-align: middle;\n",
       "    }\n",
       "\n",
       "    .dataframe tbody tr th {\n",
       "        vertical-align: top;\n",
       "    }\n",
       "\n",
       "    .dataframe thead th {\n",
       "        text-align: right;\n",
       "    }\n",
       "</style>\n",
       "<table border=\"1\" class=\"dataframe\">\n",
       "  <thead>\n",
       "    <tr style=\"text-align: right;\">\n",
       "      <th></th>\n",
       "      <th>Price</th>\n",
       "      <th>Year</th>\n",
       "      <th>Mileage</th>\n",
       "      <th>City</th>\n",
       "      <th>State</th>\n",
       "      <th>Vin</th>\n",
       "      <th>Make</th>\n",
       "      <th>Model</th>\n",
       "    </tr>\n",
       "  </thead>\n",
       "  <tbody>\n",
       "    <tr>\n",
       "      <th>0</th>\n",
       "      <td>8995</td>\n",
       "      <td>2014</td>\n",
       "      <td>35725</td>\n",
       "      <td>El Paso</td>\n",
       "      <td>TX</td>\n",
       "      <td>19VDE2E53EE000083</td>\n",
       "      <td>Acura</td>\n",
       "      <td>ILX6-Speed</td>\n",
       "    </tr>\n",
       "    <tr>\n",
       "      <th>1</th>\n",
       "      <td>10888</td>\n",
       "      <td>2013</td>\n",
       "      <td>19606</td>\n",
       "      <td>Long Island City</td>\n",
       "      <td>NY</td>\n",
       "      <td>19VDE1F52DE012636</td>\n",
       "      <td>Acura</td>\n",
       "      <td>ILX5-Speed</td>\n",
       "    </tr>\n",
       "    <tr>\n",
       "      <th>2</th>\n",
       "      <td>8995</td>\n",
       "      <td>2013</td>\n",
       "      <td>48851</td>\n",
       "      <td>El Paso</td>\n",
       "      <td>TX</td>\n",
       "      <td>19VDE2E52DE000025</td>\n",
       "      <td>Acura</td>\n",
       "      <td>ILX6-Speed</td>\n",
       "    </tr>\n",
       "    <tr>\n",
       "      <th>3</th>\n",
       "      <td>10999</td>\n",
       "      <td>2014</td>\n",
       "      <td>39922</td>\n",
       "      <td>Windsor</td>\n",
       "      <td>CO</td>\n",
       "      <td>19VDE1F71EE003817</td>\n",
       "      <td>Acura</td>\n",
       "      <td>ILX5-Speed</td>\n",
       "    </tr>\n",
       "    <tr>\n",
       "      <th>4</th>\n",
       "      <td>14799</td>\n",
       "      <td>2016</td>\n",
       "      <td>22142</td>\n",
       "      <td>Lindon</td>\n",
       "      <td>UT</td>\n",
       "      <td>19UDE2F32GA001284</td>\n",
       "      <td>Acura</td>\n",
       "      <td>ILXAutomatic</td>\n",
       "    </tr>\n",
       "  </tbody>\n",
       "</table>\n",
       "</div>"
      ],
      "text/plain": [
       "   Price  Year  Mileage              City State                Vin   Make  \\\n",
       "0   8995  2014    35725           El Paso    TX  19VDE2E53EE000083  Acura   \n",
       "1  10888  2013    19606  Long Island City    NY  19VDE1F52DE012636  Acura   \n",
       "2   8995  2013    48851           El Paso    TX  19VDE2E52DE000025  Acura   \n",
       "3  10999  2014    39922           Windsor    CO  19VDE1F71EE003817  Acura   \n",
       "4  14799  2016    22142            Lindon    UT  19UDE2F32GA001284  Acura   \n",
       "\n",
       "          Model  \n",
       "0    ILX6-Speed  \n",
       "1    ILX5-Speed  \n",
       "2    ILX6-Speed  \n",
       "3    ILX5-Speed  \n",
       "4  ILXAutomatic  "
      ]
     },
     "execution_count": 8,
     "metadata": {},
     "output_type": "execute_result"
    }
   ],
   "source": [
    "# read dataset\n",
    "dtypes = {\n",
    "    'Year': 'int', \n",
    "    'Mileage': 'int', \n",
    "    'City': 'category', \n",
    "    'State': 'category', \n",
    "    'Vin': 'category', \n",
    "    'Make': 'category', \n",
    "    'Model': 'category', \n",
    "    'Price': 'int'\n",
    "}\n",
    "df = pd.read_csv('libs/data/true_car_listings.csv', dtype=dtypes)\n",
    "print(df.columns)\n",
    "df.head()"
   ]
  },
  {
   "cell_type": "code",
   "execution_count": 9,
   "metadata": {},
   "outputs": [],
   "source": [
    "# split dataset\n",
    "X = df[[\n",
    "    'Year', \n",
    "    # 'Mileage', \n",
    "        # 'City', 'State', 'Make', \n",
    "        'Model']]\n",
    "y = df.Price\n",
    "X_train, X_test, y_train, y_test = train_test_split(X, y, test_size=0.2, shuffle=True)"
   ]
  },
  {
   "cell_type": "code",
   "execution_count": 10,
   "metadata": {},
   "outputs": [
    {
     "data": {
      "text/html": [
       "<div>\n",
       "<style scoped>\n",
       "    .dataframe tbody tr th:only-of-type {\n",
       "        vertical-align: middle;\n",
       "    }\n",
       "\n",
       "    .dataframe tbody tr th {\n",
       "        vertical-align: top;\n",
       "    }\n",
       "\n",
       "    .dataframe thead th {\n",
       "        text-align: right;\n",
       "    }\n",
       "</style>\n",
       "<table border=\"1\" class=\"dataframe\">\n",
       "  <thead>\n",
       "    <tr style=\"text-align: right;\">\n",
       "      <th></th>\n",
       "      <th>Year</th>\n",
       "      <th>Model</th>\n",
       "      <th>Price</th>\n",
       "    </tr>\n",
       "  </thead>\n",
       "  <tbody>\n",
       "    <tr>\n",
       "      <th>88659</th>\n",
       "      <td>2017</td>\n",
       "      <td>MalibuLT</td>\n",
       "      <td>17933</td>\n",
       "    </tr>\n",
       "    <tr>\n",
       "      <th>659865</th>\n",
       "      <td>2017</td>\n",
       "      <td>RogueS</td>\n",
       "      <td>19799</td>\n",
       "    </tr>\n",
       "    <tr>\n",
       "      <th>101427</th>\n",
       "      <td>2014</td>\n",
       "      <td>EquinoxAWD</td>\n",
       "      <td>16599</td>\n",
       "    </tr>\n",
       "    <tr>\n",
       "      <th>403674</th>\n",
       "      <td>2016</td>\n",
       "      <td>Accord</td>\n",
       "      <td>25900</td>\n",
       "    </tr>\n",
       "    <tr>\n",
       "      <th>134166</th>\n",
       "      <td>2012</td>\n",
       "      <td>TraverseFWD</td>\n",
       "      <td>16195</td>\n",
       "    </tr>\n",
       "  </tbody>\n",
       "</table>\n",
       "</div>"
      ],
      "text/plain": [
       "        Year        Model  Price\n",
       "88659   2017     MalibuLT  17933\n",
       "659865  2017       RogueS  19799\n",
       "101427  2014   EquinoxAWD  16599\n",
       "403674  2016       Accord  25900\n",
       "134166  2012  TraverseFWD  16195"
      ]
     },
     "execution_count": 10,
     "metadata": {},
     "output_type": "execute_result"
    }
   ],
   "source": [
    "# show train\n",
    "pd.concat([X_train, y_train], axis=1, sort=False).head()"
   ]
  },
  {
   "cell_type": "code",
   "execution_count": 11,
   "metadata": {},
   "outputs": [
    {
     "data": {
      "text/html": [
       "<div>\n",
       "<style scoped>\n",
       "    .dataframe tbody tr th:only-of-type {\n",
       "        vertical-align: middle;\n",
       "    }\n",
       "\n",
       "    .dataframe tbody tr th {\n",
       "        vertical-align: top;\n",
       "    }\n",
       "\n",
       "    .dataframe thead th {\n",
       "        text-align: right;\n",
       "    }\n",
       "</style>\n",
       "<table border=\"1\" class=\"dataframe\">\n",
       "  <thead>\n",
       "    <tr style=\"text-align: right;\">\n",
       "      <th></th>\n",
       "      <th>Year</th>\n",
       "      <th>Model</th>\n",
       "      <th>Price</th>\n",
       "    </tr>\n",
       "  </thead>\n",
       "  <tbody>\n",
       "    <tr>\n",
       "      <th>760001</th>\n",
       "      <td>2014</td>\n",
       "      <td>CamryL</td>\n",
       "      <td>14991</td>\n",
       "    </tr>\n",
       "    <tr>\n",
       "      <th>325901</th>\n",
       "      <td>2015</td>\n",
       "      <td>F-1504WD</td>\n",
       "      <td>28995</td>\n",
       "    </tr>\n",
       "    <tr>\n",
       "      <th>566347</th>\n",
       "      <td>2013</td>\n",
       "      <td>GS</td>\n",
       "      <td>27995</td>\n",
       "    </tr>\n",
       "    <tr>\n",
       "      <th>150780</th>\n",
       "      <td>2016</td>\n",
       "      <td>ColoradoCrew</td>\n",
       "      <td>30970</td>\n",
       "    </tr>\n",
       "    <tr>\n",
       "      <th>204096</th>\n",
       "      <td>2008</td>\n",
       "      <td>Caliber4dr</td>\n",
       "      <td>4499</td>\n",
       "    </tr>\n",
       "  </tbody>\n",
       "</table>\n",
       "</div>"
      ],
      "text/plain": [
       "        Year         Model  Price\n",
       "760001  2014        CamryL  14991\n",
       "325901  2015      F-1504WD  28995\n",
       "566347  2013            GS  27995\n",
       "150780  2016  ColoradoCrew  30970\n",
       "204096  2008    Caliber4dr   4499"
      ]
     },
     "execution_count": 11,
     "metadata": {},
     "output_type": "execute_result"
    }
   ],
   "source": [
    "# show test\n",
    "pd.concat([X_test, y_test], axis=1, sort=False).head()"
   ]
  },
  {
   "cell_type": "code",
   "execution_count": 12,
   "metadata": {},
   "outputs": [
    {
     "name": "stdout",
     "output_type": "stream",
     "text": [
      "<class 'pandas.core.frame.DataFrame'>\n",
      "Int64Index: 681697 entries, 88659 to 404826\n",
      "Data columns (total 3 columns):\n",
      " #   Column  Non-Null Count   Dtype   \n",
      "---  ------  --------------   -----   \n",
      " 0   Year    681697 non-null  int64   \n",
      " 1   Model   681697 non-null  category\n",
      " 2   Price   681697 non-null  int64   \n",
      "dtypes: category(1), int64(2)\n",
      "memory usage: 17.0 MB\n"
     ]
    }
   ],
   "source": [
    "pd.concat([X_train, y_train], axis=1, sort=False).info()"
   ]
  },
  {
   "cell_type": "code",
   "execution_count": 13,
   "metadata": {},
   "outputs": [],
   "source": [
    "t = ColumnTransformer(transformers=[\n",
    "    ('onehot', OneHotEncoder(handle_unknown='ignore'), [\n",
    "        #'City', 'State', 'Make', \n",
    "        'Model'\n",
    "    ]),\n",
    "    ('scale', StandardScaler(), [\n",
    "        'Year', \n",
    "        # 'Mileage'\n",
    "    ])\n",
    "], remainder='passthrough')\n",
    "\n",
    "# Transform the features\n",
    "features = t.fit_transform(X_train)"
   ]
  },
  {
   "cell_type": "code",
   "execution_count": 14,
   "metadata": {},
   "outputs": [
    {
     "name": "stdout",
     "output_type": "stream",
     "text": [
      "0.8431953141237413\n",
      "[-10360.93242657 -12557.81229696  -7664.69365229 ... -20509.32560444\n",
      " -20776.98153706   7274.79244596]\n",
      "30950.37464607249\n"
     ]
    }
   ],
   "source": [
    "# Train the linear regression model\n",
    "reg = LinearRegression()\n",
    "model = reg.fit(features, y_train)\n",
    "print(reg.score(features, y_train))\n",
    "print(reg.coef_)\n",
    "print(reg.intercept_)"
   ]
  },
  {
   "cell_type": "code",
   "execution_count": 15,
   "metadata": {},
   "outputs": [
    {
     "name": "stdout",
     "output_type": "stream",
     "text": [
      "0.8403699849449666\n",
      "0.8122193477559747\n",
      "29768213.071919564\n"
     ]
    }
   ],
   "source": [
    "# Generate a prediction\n",
    "test_features = t.transform(X_test)\n",
    "prediction = model.predict(test_features)\n",
    "print(reg.score(test_features, y_test))\n",
    "print(r2_score(prediction, y_test))\n",
    "print(mean_squared_error(prediction, y_test))"
   ]
  },
  {
   "cell_type": "code",
   "execution_count": 16,
   "metadata": {},
   "outputs": [
    {
     "name": "stdout",
     "output_type": "stream",
     "text": [
      "0.8403699849449666\n",
      "0.8122193477559747\n",
      "29768213.071919564\n"
     ]
    }
   ],
   "source": [
    "lr = LinearRegression()\n",
    "lr.coef_ = reg.coef_\n",
    "lr.intercept_ = reg.intercept_\n",
    "test_features = t.transform(X_test)\n",
    "prediction = lr.predict(test_features)\n",
    "print(reg.score(test_features, y_test))\n",
    "print(r2_score(prediction, y_test))\n",
    "print(mean_squared_error(prediction, y_test))"
   ]
  },
  {
   "cell_type": "code",
   "execution_count": 17,
   "metadata": {},
   "outputs": [],
   "source": [
    "dict_model = {\n",
    "    \"coef_\": reg.coef_,\n",
    "    \"intercept_\": reg.intercept_\n",
    "}\n",
    "store_model(dict_model)"
   ]
  },
  {
   "cell_type": "code",
   "execution_count": 18,
   "metadata": {},
   "outputs": [
    {
     "name": "stdout",
     "output_type": "stream",
     "text": [
      "[-10360.93242657 -12557.81229696  -7664.69365229 ... -20509.32560444\n",
      " -20776.98153706   7274.79244596]\n"
     ]
    }
   ],
   "source": [
    "a = extract_model()\n",
    "print(a.coef_)"
   ]
  },
  {
   "cell_type": "code",
   "execution_count": 19,
   "metadata": {},
   "outputs": [
    {
     "name": "stdout",
     "output_type": "stream",
     "text": [
      "0.8403699849449666\n",
      "0.8122193477559747\n",
      "29768213.071919564\n"
     ]
    }
   ],
   "source": [
    "prediction = a.predict(test_features)\n",
    "print(reg.score(test_features, y_test))\n",
    "print(r2_score(prediction, y_test))\n",
    "print(mean_squared_error(prediction, y_test))"
   ]
  }
 ],
 "metadata": {
  "kernelspec": {
   "display_name": "Python 3",
   "language": "python",
   "name": "python3"
  },
  "language_info": {
   "codemirror_mode": {
    "name": "ipython",
    "version": 3
   },
   "file_extension": ".py",
   "mimetype": "text/x-python",
   "name": "python",
   "nbconvert_exporter": "python",
   "pygments_lexer": "ipython3",
   "version": "3.6.5"
  }
 },
 "nbformat": 4,
 "nbformat_minor": 4
}
